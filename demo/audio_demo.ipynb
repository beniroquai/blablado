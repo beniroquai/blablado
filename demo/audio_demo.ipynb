{
 "cells": [
  {
   "cell_type": "code",
   "execution_count": null,
   "id": "dfc6d60b-52e5-4ed9-9535-79e2c774a414",
   "metadata": {},
   "outputs": [],
   "source": [
    "from blablado._speak import _speak_out\n",
    "_speak_out(\"Hello world\")"
   ]
  },
  {
   "cell_type": "code",
   "execution_count": null,
   "id": "de739742-2442-408d-8bab-f23c531135cb",
   "metadata": {},
   "outputs": [],
   "source": []
  },
  {
   "cell_type": "code",
   "execution_count": null,
   "id": "64924543-8f0e-4392-afaa-a8765b12ebcf",
   "metadata": {},
   "outputs": [
    {
     "name": "stdout",
     "output_type": "stream",
     "text": [
      "Listening (mic=3)...\n",
      "Recognizing...\n",
      "You said: hello\n"
     ]
    },
    {
     "data": {
      "text/markdown": [
       "Hello! I'm here to help you with your questions. Just ask away!"
      ],
      "text/plain": [
       "<IPython.core.display.Markdown object>"
      ]
     },
     "metadata": {},
     "output_type": "display_data"
    },
    {
     "name": "stdout",
     "output_type": "stream",
     "text": [
      "Listening (mic=3)...\n",
      "Recognizing...\n",
      "You said: what is 3 + 4\n"
     ]
    },
    {
     "data": {
      "text/markdown": [
       "3 + 4 equals 7. Let me know if you need help with anything else!"
      ],
      "text/plain": [
       "<IPython.core.display.Markdown object>"
      ]
     },
     "metadata": {},
     "output_type": "display_data"
    },
    {
     "name": "stdout",
     "output_type": "stream",
     "text": [
      "Listening (mic=3)...\n",
      "Recognizing...\n",
      "You said: why is Europe not in America\n"
     ]
    },
    {
     "data": {
      "text/markdown": [
       "Europe is a separate continent located across the Atlantic Ocean from America. The continents are geographically distinct landmasses with different historical and cultural backgrounds."
      ],
      "text/plain": [
       "<IPython.core.display.Markdown object>"
      ]
     },
     "metadata": {},
     "output_type": "display_data"
    }
   ],
   "source": [
    "from blablado import register_tool, listen, set_microphone_index\n",
    "\n",
    "set_microphone_index(3) # depends on computer\n",
    "\n",
    "from datetime import datetime\n",
    "\n",
    "@register_tool\n",
    "def book_room(room:str, author:str, start:datetime, end:datetime):\n",
    "    \"\"\"Book a room for a specific person from start to end time.\"\"\"\n",
    "    \n",
    "    print(f\"\"\"\n",
    "    Booking {room} for {author} from {start} to {end}.\n",
    "    \"\"\")\n",
    "\n",
    "listen(until_bye_bye=True)"
   ]
  },
  {
   "cell_type": "code",
   "execution_count": null,
   "id": "c92ad25a-81b4-4d5d-9674-72028eb3acd6",
   "metadata": {},
   "outputs": [],
   "source": []
  }
 ],
 "metadata": {
  "kernelspec": {
   "display_name": "Python 3 (ipykernel)",
   "language": "python",
   "name": "python3"
  },
  "language_info": {
   "codemirror_mode": {
    "name": "ipython",
    "version": 3
   },
   "file_extension": ".py",
   "mimetype": "text/x-python",
   "name": "python",
   "nbconvert_exporter": "python",
   "pygments_lexer": "ipython3",
   "version": "3.9.16"
  }
 },
 "nbformat": 4,
 "nbformat_minor": 5
}
