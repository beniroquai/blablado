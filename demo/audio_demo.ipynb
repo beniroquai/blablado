{
 "cells": [
  {
   "cell_type": "markdown",
   "id": "744ed8d4-7d1f-4a64-8078-538c2e13ce6e",
   "metadata": {},
   "source": [
    "# Conversing with blablado\n",
    "It is possible to use microphone input and voice output to have a converstion with `blablado`.\n",
    "\n",
    "First, let's test the speaker."
   ]
  },
  {
   "cell_type": "code",
   "execution_count": 1,
   "id": "dfc6d60b-52e5-4ed9-9535-79e2c774a414",
   "metadata": {},
   "outputs": [],
   "source": [
    "from blablado._speak import speak_out\n",
    "speak_out(\"Hello world\")"
   ]
  },
  {
   "cell_type": "markdown",
   "id": "8e25141d-ea62-4bf4-a198-816f9cf9d704",
   "metadata": {},
   "source": [
    "Next, we choose a microphone."
   ]
  },
  {
   "cell_type": "code",
   "execution_count": 2,
   "id": "bd51f858-40dd-4bc9-a112-86f8e7ef2cc0",
   "metadata": {},
   "outputs": [
    {
     "data": {
      "text/plain": [
       "['Microsoft Sound Mapper - Input',\n",
       " 'Microphone Array (Realtek(R) Au',\n",
       " 'AI Noise-cancelling Input (ASUS',\n",
       " 'Headset (MAJOR IV Hands-Free AG',\n",
       " 'Microsoft Sound Mapper - Output']"
      ]
     },
     "execution_count": 2,
     "metadata": {},
     "output_type": "execute_result"
    }
   ],
   "source": [
    "from blablado import list_microphones\n",
    "list_microphones()[:5]"
   ]
  },
  {
   "cell_type": "markdown",
   "id": "110b9a30-7c4c-47d7-8758-fcc10c082426",
   "metadata": {},
   "source": [
    "We can then setup an assistant and select the microphone it uses for listening."
   ]
  },
  {
   "cell_type": "code",
   "execution_count": 3,
   "id": "de739742-2442-408d-8bab-f23c531135cb",
   "metadata": {},
   "outputs": [],
   "source": [
    "from blablado import Assistant\n",
    "assistant = Assistant(has_voice=True)\n",
    "assistant.microphone_index = 3"
   ]
  },
  {
   "cell_type": "markdown",
   "id": "436d80c1-913d-4777-a185-74ab6af85509",
   "metadata": {},
   "source": [
    "We need to register the tools it is capable of using."
   ]
  },
  {
   "cell_type": "code",
   "execution_count": 4,
   "id": "434b2beb-0862-4e6e-81c6-d8cc04385e96",
   "metadata": {},
   "outputs": [],
   "source": [
    "from datetime import datetime\n",
    "\n",
    "@assistant.register_tool\n",
    "def book_room(room:str, author:str, start:datetime, end:datetime):\n",
    "    \"\"\"Book a room for a specific person from start to end time.\"\"\"\n",
    "    result =f\"\"\"\n",
    "    Room {room} has been booked for {author} from {start} to {end}.\n",
    "    \"\"\"\n",
    "    print(result)\n",
    "    return result"
   ]
  },
  {
   "cell_type": "markdown",
   "id": "be0de518-2a46-4172-93f1-d2f8020aa3be",
   "metadata": {},
   "source": [
    "Then, we can ask it to solve a single prompt."
   ]
  },
  {
   "cell_type": "code",
   "execution_count": 5,
   "id": "04ea775a-cff3-4801-822d-788084a89e91",
   "metadata": {},
   "outputs": [
    {
     "name": "stdout",
     "output_type": "stream",
     "text": [
      "Listening via Headset (MAJOR IV Hands-Free AG (timeout: 10)...\n",
      "Processing...\n",
      "You said: please book room 182 for robot from 3 to 4 tomorrow\n",
      "\n",
      "    Room 182 has been booked for robot from 2024-02-22 15:00:00 to 2024-02-22 16:00:00.\n",
      "    \n",
      "Room 182 has been successfully booked for robot from 3:00 PM to 4:00 PM tomorrow.\n"
     ]
    }
   ],
   "source": [
    "assistant.listen()"
   ]
  },
  {
   "cell_type": "markdown",
   "id": "016d86ea-0f0b-426b-91c8-89c54b7f06d1",
   "metadata": {},
   "source": [
    "## Continuous conversations\n",
    "You can also have continuous discussions with the assistant. You need to end the discussion with \"bye bye\" or otherwise it will remain in an endless loop."
   ]
  },
  {
   "cell_type": "code",
   "execution_count": 6,
   "id": "204d56fd-224e-4812-b4d5-ad592ef6ed99",
   "metadata": {},
   "outputs": [],
   "source": [
    "@assistant.register_tool\n",
    "def compute_sum(a:int, b:int):\n",
    "    \"\"\"Sums two numbers\"\"\"\n",
    "    print(f\"summing {a} and {b}...\")\n",
    "    return a + b\n",
    "\n",
    "@assistant.register_tool\n",
    "def multiply_numbers(a:int, b:int):\n",
    "    \"\"\"Multiply two numbers\"\"\"\n",
    "    print(f\"Multiplying {a} and {b}...\")\n",
    "    return a * b"
   ]
  },
  {
   "cell_type": "code",
   "execution_count": 7,
   "id": "96e0d1c3-065e-470e-a4c5-639453820097",
   "metadata": {},
   "outputs": [
    {
     "name": "stdout",
     "output_type": "stream",
     "text": [
      "Listening via Headset (MAJOR IV Hands-Free AG (timeout: 10)...\n",
      "Processing...\n",
      "You said: what is 2 + 3\n",
      "summing 2 and 3...\n",
      "The sum of 2 + 3 is 5.\n",
      "Listening via Headset (MAJOR IV Hands-Free AG (timeout: 10)...\n",
      "Processing...\n",
      "You said: what is 5 + 6\n",
      "summing 5 and 6...\n",
      "The sum of 5 + 6 is 11.\n",
      "Listening via Headset (MAJOR IV Hands-Free AG (timeout: 10)...\n",
      "Processing...\n",
      "You said: bye-bye\n",
      "I am here to help you. Let me know if you have any more questions.\n"
     ]
    }
   ],
   "source": [
    "assistant.listen(until_bye_bye=True)"
   ]
  },
  {
   "cell_type": "code",
   "execution_count": null,
   "id": "e35eba5d-622a-446b-a0ac-6a77bc2ce960",
   "metadata": {},
   "outputs": [],
   "source": []
  }
 ],
 "metadata": {
  "kernelspec": {
   "display_name": "Python 3 (ipykernel)",
   "language": "python",
   "name": "python3"
  },
  "language_info": {
   "codemirror_mode": {
    "name": "ipython",
    "version": 3
   },
   "file_extension": ".py",
   "mimetype": "text/x-python",
   "name": "python",
   "nbconvert_exporter": "python",
   "pygments_lexer": "ipython3",
   "version": "3.9.18"
  }
 },
 "nbformat": 4,
 "nbformat_minor": 5
}
