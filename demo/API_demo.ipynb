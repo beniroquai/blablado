{
 "cells": [
  {
   "cell_type": "markdown",
   "id": "a9e5556d-1c9c-4fa8-801a-590aa17c0a20",
   "metadata": {},
   "source": [
    "# `blablado` calls functions for you\n",
    "\n",
    "The `blablado` library is a simple way to use large language models to call python functions. It is a conenvience wrapper around the OpenAI API and langchain."
   ]
  },
  {
   "cell_type": "code",
   "execution_count": 1,
   "id": "d870ac34-92d4-4511-8df2-564c1f43ceaf",
   "metadata": {},
   "outputs": [],
   "source": [
    "from blablado import do, register_tool"
   ]
  },
  {
   "cell_type": "markdown",
   "id": "b0ad2dbc-c7dc-4924-b05a-511db2e08f1b",
   "metadata": {},
   "source": [
    "## Calling simple functions\n",
    "\n",
    "The assistant supports calling functions with multiple parameters and common types. Just register the function you would like it to be aware of and then run a prompt with a task that could be solved using the mentioned funciton."
   ]
  },
  {
   "cell_type": "code",
   "execution_count": 2,
   "id": "853dec80-6748-4ef2-989b-ef7bf28c2aa1",
   "metadata": {},
   "outputs": [],
   "source": [
    "def compute_sum(a:int, b:int):\n",
    "    \"\"\"Sums two numbers\"\"\"\n",
    "    print(f\"summing {a} and {b}...\")\n",
    "    return a + b\n",
    "\n",
    "register_tool(compute_sum)"
   ]
  },
  {
   "cell_type": "code",
   "execution_count": 3,
   "id": "be441ead-412e-473a-9f88-3fff4a45f6e3",
   "metadata": {},
   "outputs": [
    {
     "name": "stdout",
     "output_type": "stream",
     "text": [
      "summing 5 and 4...\n"
     ]
    },
    {
     "data": {
      "text/markdown": [
       "The sum of 5 plus 4 is 9."
      ],
      "text/plain": [
       "<IPython.core.display.Markdown object>"
      ]
     },
     "metadata": {},
     "output_type": "display_data"
    }
   ],
   "source": [
    "do(\"add 5 plus 4\")"
   ]
  },
  {
   "cell_type": "markdown",
   "id": "084218a9-c5aa-4a0c-9524-26af251f86d8",
   "metadata": {},
   "source": [
    "## Calling functions common Python data types\n",
    "\n",
    "The assistant can also call functions with more complex and yet python standard types such as datetime. "
   ]
  },
  {
   "cell_type": "code",
   "execution_count": 4,
   "id": "4923b8ae-4efd-4faf-999d-7fa8102b5e82",
   "metadata": {},
   "outputs": [],
   "source": [
    "from datetime import datetime\n",
    "\n",
    "@register_tool\n",
    "def book_room(room:str, author:str, start:datetime, end:datetime):\n",
    "    \"\"\"Book a room for a specific person from start to end time.\"\"\"\n",
    "    \n",
    "    print(f\"\"\"\n",
    "    Booking {room} for {author} from {start} to {end}.\n",
    "    \"\"\")"
   ]
  },
  {
   "cell_type": "code",
   "execution_count": 5,
   "id": "b61f7eb9-4480-421b-898d-c33032535d77",
   "metadata": {},
   "outputs": [
    {
     "name": "stdout",
     "output_type": "stream",
     "text": [
      "\n",
      "    Booking 321 for Robert from 2023-10-04 15:00:00 to 2023-10-04 16:00:00.\n",
      "    \n"
     ]
    },
    {
     "data": {
      "text/markdown": [
       "The room 321 has been booked for Robert from 3 to 4 pm tomorrow."
      ],
      "text/plain": [
       "<IPython.core.display.Markdown object>"
      ]
     },
     "metadata": {},
     "output_type": "display_data"
    }
   ],
   "source": [
    "do(\"Hi I'm Robert, please book room 321 for me from 3 to 4 pm tomorrow. Thanks\")"
   ]
  },
  {
   "cell_type": "markdown",
   "id": "7ea09b51-2919-4e50-b537-54b6df34e804",
   "metadata": {},
   "source": [
    "## Calling unrelated stuff\n",
    "\n",
    "The following examples serve demonstrating that functions are not called in case the assistant doesn't know what to do."
   ]
  },
  {
   "cell_type": "code",
   "execution_count": 6,
   "id": "87a1c450-a200-47e6-a598-a73119cfc3fb",
   "metadata": {},
   "outputs": [
    {
     "data": {
      "text/markdown": [
       "I am unable to set up coffee for you in the kitchen as I am a text-based assistant and do not have the capability to physically interact with the environment."
      ],
      "text/plain": [
       "<IPython.core.display.Markdown object>"
      ]
     },
     "metadata": {},
     "output_type": "display_data"
    }
   ],
   "source": [
    "do(\"Setup a coffee for me in the kitchen\")"
   ]
  },
  {
   "cell_type": "code",
   "execution_count": 7,
   "id": "d1414418-af0d-4628-afcb-efb4b61ac209",
   "metadata": {},
   "outputs": [
    {
     "data": {
      "text/markdown": [
       "I am unable to set up a virtual coffee for you as I do not have the functionality to create virtual items or experiences."
      ],
      "text/plain": [
       "<IPython.core.display.Markdown object>"
      ]
     },
     "metadata": {},
     "output_type": "display_data"
    }
   ],
   "source": [
    "do(\"Setup a virtual coffee for me\")"
   ]
  },
  {
   "cell_type": "code",
   "execution_count": 8,
   "id": "9e12781a-1390-4212-8391-0489875f586b",
   "metadata": {},
   "outputs": [
    {
     "data": {
      "text/markdown": [
       "I am unable to set up an empty text file for you as I do not have access to your device or the ability to create files on your system."
      ],
      "text/plain": [
       "<IPython.core.display.Markdown object>"
      ]
     },
     "metadata": {},
     "output_type": "display_data"
    }
   ],
   "source": [
    "do(\"Setup an empty text file\")"
   ]
  },
  {
   "cell_type": "code",
   "execution_count": null,
   "id": "c85ea0f8-5b7c-4fc5-a378-923f00dde94a",
   "metadata": {},
   "outputs": [],
   "source": []
  }
 ],
 "metadata": {
  "kernelspec": {
   "display_name": "Python 3 (ipykernel)",
   "language": "python",
   "name": "python3"
  },
  "language_info": {
   "codemirror_mode": {
    "name": "ipython",
    "version": 3
   },
   "file_extension": ".py",
   "mimetype": "text/x-python",
   "name": "python",
   "nbconvert_exporter": "python",
   "pygments_lexer": "ipython3",
   "version": "3.9.16"
  }
 },
 "nbformat": 4,
 "nbformat_minor": 5
}
